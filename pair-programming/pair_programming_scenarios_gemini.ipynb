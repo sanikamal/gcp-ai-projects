{
 "cells": [
  {
   "cell_type": "markdown",
   "id": "9ee333b4-4b2e-4e45-8833-3a6e4782b46c",
   "metadata": {},
   "source": [
    "# Pair Programming Scenarios with Gemini\n"
   ]
  },
  {
   "cell_type": "markdown",
   "id": "279e9386-c8cd-4825-afcc-43e3191cad69",
   "metadata": {},
   "source": [
    "#### Setup\n",
    "Set the Gemini API key with the provided helper function."
   ]
  },
  {
   "cell_type": "code",
   "execution_count": 1,
   "id": "39fa172d-0b5d-4fd1-9051-3d6f2e31730f",
   "metadata": {
    "height": 319
   },
   "outputs": [],
   "source": [
    "import os\n",
    "from dotenv import load_dotenv, find_dotenv\n",
    "\n",
    "def get_api_key():\n",
    "    \n",
    "    _ = load_dotenv(find_dotenv()) # read local .env file\n",
    "    return os.getenv('GOOGLE_API_KEY')\n",
    "# PaLM legacy\n",
    "## import google.generativeai as palm\n",
    "## palm.configure(api_key=get_api_key())\n",
    "\n",
    "# Gemini API\n",
    "# From now own with Gemini API\n",
    "import os\n",
    "import google.generativeai as genai\n",
    "from google.api_core import client_options as client_options_lib\n",
    "\n",
    "genai.configure(\n",
    "    api_key=get_api_key(),\n",
    "    transport=\"rest\",\n",
    "    client_options=client_options_lib.ClientOptions(\n",
    "        api_endpoint=os.getenv(\"GOOGLE_API_BASE\"),\n",
    "    )\n",
    ")"
   ]
  },
  {
   "cell_type": "markdown",
   "id": "18775c71-13f5-49ff-ac4a-d34cb33afb0a",
   "metadata": {},
   "source": [
    "#### Pick the model that generates text"
   ]
  },
  {
   "cell_type": "code",
   "execution_count": 2,
   "id": "a0ff7acb-6793-49b1-bf59-993c1a3bd612",
   "metadata": {
    "height": 64
   },
   "outputs": [
    {
     "data": {
      "text/plain": [
       "Model(name='models/text-bison-001',\n",
       "      base_model_id='',\n",
       "      version='001',\n",
       "      display_name='PaLM 2 (Legacy)',\n",
       "      description='A legacy model that understands text and generates text as an output',\n",
       "      input_token_limit=8196,\n",
       "      output_token_limit=1024,\n",
       "      supported_generation_methods=['generateText', 'countTextTokens', 'createTunedTextModel'],\n",
       "      temperature=0.7,\n",
       "      top_p=0.95,\n",
       "      top_k=40)"
      ]
     },
     "execution_count": 2,
     "metadata": {},
     "output_type": "execute_result"
    }
   ],
   "source": [
    "models = [m for m in genai.list_models() if 'generateText' in m.supported_generation_methods]\n",
    "model_bison = models[0]\n",
    "model_bison"
   ]
  },
  {
   "cell_type": "code",
   "execution_count": 3,
   "id": "2194d2d2",
   "metadata": {
    "height": 47
   },
   "outputs": [],
   "source": [
    "# Set the model to connect to the Gemini API\n",
    "model_flash = genai.GenerativeModel(model_name='gemini-1.5-flash')"
   ]
  },
  {
   "cell_type": "markdown",
   "id": "8b6efbc6-7f98-4760-9ac0-3b513ef47d6a",
   "metadata": {},
   "source": [
    "### Legacy PaLM API\n",
    "#### Helper function to call the PaLM API\n",
    "\n",
    "```Python\n",
    "from google.api_core import retry\n",
    "@retry.Retry()\n",
    "def generate_text(prompt, \n",
    "                  model=model_bison, \n",
    "                  temperature=0.0):\n",
    "    return palm.generate_text(prompt=prompt,\n",
    "                              model=model,\n",
    "                              temperature=temperature)\n",
    "```"
   ]
  },
  {
   "cell_type": "markdown",
   "id": "c5bba3e1",
   "metadata": {},
   "source": [
    "### Helper function to call the Gemini API"
   ]
  },
  {
   "cell_type": "code",
   "execution_count": 4,
   "id": "008d0c81-4a13-42e2-b0e3-5fe65c56fc18",
   "metadata": {
    "height": 98
   },
   "outputs": [],
   "source": [
    "def generate_text(prompt,\n",
    "                  model=model_flash,\n",
    "                  temperature=0.0):\n",
    "    return model_flash.generate_content(prompt,\n",
    "                                  generation_config={'temperature':temperature})"
   ]
  },
  {
   "cell_type": "markdown",
   "id": "00d25195-6e75-4617-a70c-f5486f9300bb",
   "metadata": {},
   "source": [
    "### Scenario 1: Improve existing code\n",
    "- An LLM can help you rewrite your code in the way that's recommended for that particular language.\n",
    "- You can ask an LLM to rewrite your Python code in a way that is more 'Pythonic\"."
   ]
  },
  {
   "cell_type": "code",
   "execution_count": 5,
   "id": "7d76836a-7e57-4858-8ae5-0e2b6f6ae682",
   "metadata": {
    "height": 132
   },
   "outputs": [],
   "source": [
    "prompt_template = \"\"\"\n",
    "I don't think this code is the best way to do it in Python, can you help me?\n",
    "\n",
    "{question}\n",
    "\n",
    "Please explain, in detail, what you did to improve it.\n",
    "\"\"\""
   ]
  },
  {
   "cell_type": "code",
   "execution_count": 6,
   "id": "b98d292a-4c66-4fe0-94f9-09de640f075e",
   "metadata": {
    "height": 98
   },
   "outputs": [],
   "source": [
    "question = \"\"\"\n",
    "def func_x(array)\n",
    "  for i in range(len(array)):\n",
    "    print(array[i])\n",
    "\"\"\""
   ]
  },
  {
   "cell_type": "code",
   "execution_count": 7,
   "id": "c4944ff9-93c2-4a61-9ac0-54bff53d6ad4",
   "metadata": {
    "height": 149
   },
   "outputs": [
    {
     "name": "stdout",
     "output_type": "stream",
     "text": [
      "The provided code iterates through a list using its index.  While functional, it's not the most Pythonic approach. Python offers more elegant and efficient ways to iterate through lists.  Here's an improved version and a detailed explanation of the changes:\n",
      "\n",
      "```python\n",
      "def func_x(array):\n",
      "  for item in array:\n",
      "    print(item)\n",
      "```\n",
      "\n",
      "**Improvements and Explanation:**\n",
      "\n",
      "The original code uses `for i in range(len(array))`, which first calculates the length of the array and then iterates using the index `i` to access each element. This is less readable and slightly less efficient than the improved version.\n",
      "\n",
      "The improved code uses a more direct and Pythonic approach: `for item in array:`. This is called **iterating directly over the iterable**.  It directly accesses each *item* in the `array` without needing to explicitly manage indices.\n",
      "\n",
      "**Why this is better:**\n",
      "\n",
      "1. **Readability:** The improved code is significantly more concise and easier to understand.  The intent – to print each item in the array – is immediately clear.  The original code requires the reader to mentally translate the index-based iteration into the actual purpose.\n",
      "\n",
      "2. **Efficiency (slightly):** While the difference might be negligible for small arrays, directly iterating avoids the extra step of calculating the length and then using the index to access elements.  This can lead to a small performance gain, especially with very large arrays.\n",
      "\n",
      "3. **Pythonic Style:**  Direct iteration is the preferred and idiomatic way to traverse sequences in Python. It aligns with Python's philosophy of readability and ease of use.\n",
      "\n",
      "4. **Flexibility:**  This approach works seamlessly with various iterable objects (lists, tuples, strings, etc.), whereas the index-based approach is specifically tied to the concept of length and indexing.\n",
      "\n",
      "\n",
      "**Example Usage:**\n",
      "\n",
      "Both versions will produce the same output:\n",
      "\n",
      "```python\n",
      "my_array = [10, 20, 30, 40, 50]\n",
      "func_x(my_array)  # Output: 10 20 30 40 50\n",
      "```\n",
      "\n",
      "In summary, the improved code is better because it's more readable, slightly more efficient, and adheres to Python's best practices for iterating over sequences.  The index-based approach is generally only necessary when you need the index itself for some specific operation within the loop.\n",
      "\n"
     ]
    }
   ],
   "source": [
    "completion = generate_text(\n",
    "    prompt = prompt_template.format(question=question)\n",
    ")\n",
    "# Gemini API\n",
    "print(completion.text)\n",
    "\n",
    "# PaLM legacy\n",
    "## print(completion.result)"
   ]
  },
  {
   "cell_type": "markdown",
   "id": "b702c38c-a6ea-4eb2-978b-caf67e79c869",
   "metadata": {},
   "source": [
    "#### Ask for multiple ways of rewriting your code"
   ]
  },
  {
   "cell_type": "code",
   "execution_count": 8,
   "id": "2f3cfe0b-2ec5-452a-bee6-ceb14cbd3f0a",
   "metadata": {
    "height": 132
   },
   "outputs": [],
   "source": [
    "prompt_template = \"\"\"\n",
    "I don't think this code is the best way to do it in Python, can you help me?\n",
    "\n",
    "{question}\n",
    "\n",
    "Please explore multiple ways of solving the problem, and explain each.\n",
    "\"\"\""
   ]
  },
  {
   "cell_type": "code",
   "execution_count": 9,
   "id": "564b598a-ff33-48f0-b58a-e1a355897a56",
   "metadata": {
    "height": 81
   },
   "outputs": [
    {
     "name": "stdout",
     "output_type": "stream",
     "text": [
      "The provided code iterates through a list and prints each element.  While functional, it's not the most Pythonic approach. Here are several better ways, each with explanations:\n",
      "\n",
      "**Method 1: Direct Iteration (Most Pythonic)**\n",
      "\n",
      "```python\n",
      "def func_x(array):\n",
      "  for item in array:\n",
      "    print(item)\n",
      "```\n",
      "\n",
      "This is the most straightforward and preferred method in Python.  It directly iterates over the elements of the array (list) without needing to access them by index. This is cleaner, more readable, and generally faster because it avoids the overhead of indexing.\n",
      "\n",
      "**Method 2: List Comprehension with `print()` (Concise, but potentially less readable for beginners)**\n",
      "\n",
      "```python\n",
      "def func_x(array):\n",
      "  [print(item) for item in array]\n",
      "```\n",
      "\n",
      "This uses a list comprehension, a concise way to create lists in Python.  While it achieves the same result, it's arguably less readable for those unfamiliar with list comprehensions.  The `print()` function is called for each item within the comprehension.  Note that this creates a list containing `None` values (the return value of `print()`), which is then immediately discarded.\n",
      "\n",
      "**Method 3: Using `*` operator for unpacking (For printing to the console without loops)**\n",
      "\n",
      "```python\n",
      "def func_x(array):\n",
      "  print(*array, sep='\\n')\n",
      "```\n",
      "\n",
      "This is the most concise method. The `*` operator unpacks the list, passing each element as a separate argument to the `print()` function.  `sep='\\n'` ensures each element is printed on a new line. This is efficient and avoids explicit looping.\n",
      "\n",
      "**Method 4: Using `join()` for strings (Specific to string arrays)**\n",
      "\n",
      "If your array contains strings, you can use the `join()` method for a more efficient concatenation and printing:\n",
      "\n",
      "```python\n",
      "def func_x(array):\n",
      "  print('\\n'.join(array))\n",
      "```\n",
      "\n",
      "This joins all strings in the array with newline characters (`\\n`) as separators, creating a single string that's then printed. This is significantly faster than iterating and printing each string individually, especially for large arrays.  This method will raise a `TypeError` if the array doesn't contain only strings.\n",
      "\n",
      "\n",
      "**Which method is best?**\n",
      "\n",
      "* For general-purpose iteration and printing of any type of list, **Method 1 (direct iteration)** is the clearest and most recommended approach.  It's easy to understand and maintain.\n",
      "\n",
      "* **Method 3 (unpacking with `*`)** is a very concise and efficient alternative for printing to the console, especially if you don't need to perform any other operations on the elements within the loop.\n",
      "\n",
      "* **Method 4 (`join()`)** is the most efficient for arrays of strings.\n",
      "\n",
      "* **Method 2 (list comprehension)** is less readable for beginners and less efficient than direct iteration or unpacking, so it's generally not the best choice unless conciseness is paramount and readability is a secondary concern.\n",
      "\n",
      "\n",
      "Remember to choose the method that best suits your needs and coding style, prioritizing readability and maintainability.  For most cases, the simple direct iteration (Method 1) is the best option.\n",
      "\n"
     ]
    }
   ],
   "source": [
    "completion = generate_text(\n",
    "    prompt = prompt_template.format(question=question)\n",
    ")\n",
    "print(completion.text)"
   ]
  },
  {
   "cell_type": "markdown",
   "id": "6eee86fb-5c10-4e49-a830-7fbe56de241a",
   "metadata": {},
   "source": [
    "#### Paste markdown into a markdown cell\n",
    "\n",
    "If the model outputs what looks like a table in markdown, you can copy-paste markdown into a markdown cell to make it easier to view:\n",
    "\n",
    "For example:\n",
    "\n",
    "| Method | Pros | Cons |\n",
    "|---|---|---|\n",
    "| List comprehension | Concise | Can be difficult to read for complex code |\n",
    "| `enumerate()` | Easy to read | Requires an extra variable to store the index |\n",
    "| `map()` | Flexible | Requires a custom function to format the output |\n"
   ]
  },
  {
   "cell_type": "markdown",
   "id": "df910404-db59-4b9e-9477-408ccec9b7fc",
   "metadata": {},
   "source": [
    "#### Ask the model to recommend one of the methods as most 'Pythonic'"
   ]
  },
  {
   "cell_type": "code",
   "execution_count": 10,
   "id": "b776a8cb-80c4-4e20-89dc-7bff2a350b9a",
   "metadata": {
    "height": 149
   },
   "outputs": [],
   "source": [
    "prompt_template = \"\"\"\n",
    "I don't think this code is the best way to do it in Python, can you help me?\n",
    "\n",
    "{question}\n",
    "\n",
    "Please explore multiple ways of solving the problem, \n",
    "and tell me which is the most Pythonic\n",
    "\"\"\""
   ]
  },
  {
   "cell_type": "code",
   "execution_count": 11,
   "id": "89521d8c-41c8-45fd-9ec3-5eea54c642a4",
   "metadata": {
    "height": 81
   },
   "outputs": [
    {
     "name": "stdout",
     "output_type": "stream",
     "text": [
      "The provided code iterates through a list and prints each element.  While functional, it's not the most Pythonic approach. Here are several better ways, with explanations of their Pythonic qualities:\n",
      "\n",
      "**Method 1: Direct Iteration (Most Pythonic)**\n",
      "\n",
      "```python\n",
      "def func_x(array):\n",
      "  for item in array:\n",
      "    print(item)\n",
      "```\n",
      "\n",
      "This is the most Pythonic because it directly iterates over the *elements* of the array, rather than iterating over indices and then accessing elements by index.  It's cleaner, more readable, and avoids potential `IndexError` exceptions if you accidentally use an invalid index.\n",
      "\n",
      "**Method 2: List Comprehension with `print()` (Less Pythonic for this specific task)**\n",
      "\n",
      "```python\n",
      "def func_x(array):\n",
      "  [print(item) for item in array]\n",
      "```\n",
      "\n",
      "List comprehensions are powerful for creating new lists, but using one solely for side effects (printing) is generally considered less readable than a simple `for` loop in this case.  While it works, it's not the preferred style for this specific problem.\n",
      "\n",
      "**Method 3: Using `*` unpacking operator (Good for printing, but not the primary purpose)**\n",
      "\n",
      "```python\n",
      "def func_x(array):\n",
      "    print(*array, sep='\\n')\n",
      "```\n",
      "\n",
      "This uses the unpacking operator `*` to pass each element of the array as a separate argument to the `print()` function. The `sep='\\n'` ensures each element is printed on a new line.  This is concise but might be less clear to someone unfamiliar with unpacking.  It's suitable if the primary goal is printing, but less so if the function might be extended to do other things with the array elements.\n",
      "\n",
      "**Method 4: Using `join()` (For strings only)**\n",
      "\n",
      "```python\n",
      "def func_x(array):\n",
      "    print('\\n'.join(array))\n",
      "```\n",
      "\n",
      "This method is only applicable if `array` contains strings.  It's very efficient for joining strings, but will raise a `TypeError` if the array elements aren't strings.\n",
      "\n",
      "**Which is most Pythonic?**\n",
      "\n",
      "For simply printing each element of a list, **Method 1 (direct iteration)** is the most Pythonic. It's clear, concise, efficient, and directly reflects the intent of the code.  It emphasizes readability and avoids unnecessary complexities.  The other methods have their uses in different contexts, but for this specific task, the simple `for` loop is the best choice.\n",
      "\n"
     ]
    }
   ],
   "source": [
    "completion = generate_text(\n",
    "    prompt = prompt_template.format(question=question)\n",
    ")\n",
    "print(completion.text)"
   ]
  },
  {
   "cell_type": "markdown",
   "id": "47315eff-85d3-45aa-bf14-a6f8ee1a43b9",
   "metadata": {},
   "source": [
    "### Scenario 2: Simplify code\n",
    "- Ask the LLM to perform a code review.\n",
    "- Note that adding/removing newline characters may affect the LLM completion that gets output by the LLM."
   ]
  },
  {
   "cell_type": "code",
   "execution_count": 12,
   "id": "ef1b24b6-c20c-4e3b-9f80-1a6dea18fa24",
   "metadata": {
    "height": 149
   },
   "outputs": [],
   "source": [
    "# option 1\n",
    "prompt_template = \"\"\"\n",
    "Can you please simplify this code for a linked list in Python?\n",
    "\n",
    "{question}\n",
    "\n",
    "Explain in detail what you did to modify it, and why.\n",
    "\"\"\""
   ]
  },
  {
   "cell_type": "markdown",
   "id": "f1c075dc-2f21-4ab5-99ed-798c08d20bad",
   "metadata": {},
   "source": [
    "After you try option 1, you can modify it to look like option 2 (in this markdown cell) and see how it changes the completion.\n",
    "```Python\n",
    "# option 2\n",
    "prompt_template = \"\"\"\n",
    "Can you please simplify this code for a linked list in Python? \\n\n",
    "You are an expert in Pythonic code.\n",
    "\n",
    "{question}\n",
    "\n",
    "Please comment each line in detail, \\n\n",
    "and explain in detail what you did to modify it, and why.\n",
    "\"\"\"\n",
    "```"
   ]
  },
  {
   "cell_type": "code",
   "execution_count": 13,
   "id": "4663db7e-3b40-4776-9dc9-87fea5975ff1",
   "metadata": {
    "height": 319
   },
   "outputs": [],
   "source": [
    "question = \"\"\"\n",
    "class Node:\n",
    "  def __init__(self, dataval=None):\n",
    "    self.dataval = dataval\n",
    "    self.nextval = None\n",
    "\n",
    "class SLinkedList:\n",
    "  def __init__(self):\n",
    "    self.headval = None\n",
    "\n",
    "list1 = SLinkedList()\n",
    "list1.headval = Node(\"Mon\")\n",
    "e2 = Node(\"Tue\")\n",
    "e3 = Node(\"Wed\")\n",
    "list1.headval.nextval = e2\n",
    "e2.nextval = e3\n",
    "\n",
    "\"\"\""
   ]
  },
  {
   "cell_type": "code",
   "execution_count": 14,
   "id": "f954dcaf-3dfe-4265-b644-1bcbeead405b",
   "metadata": {
    "height": 81
   },
   "outputs": [
    {
     "name": "stdout",
     "output_type": "stream",
     "text": [
      "The provided code is already fairly concise, but we can make it slightly more streamlined and Pythonic.  The main improvements will focus on making the list creation more efficient and readable.\n",
      "\n",
      "Here's a simplified version:\n",
      "\n",
      "```python\n",
      "class Node:\n",
      "    def __init__(self, data):  # Simplified variable name\n",
      "        self.data = data       # Simplified variable name\n",
      "        self.next = None       # Simplified variable name\n",
      "\n",
      "\n",
      "class LinkedList:  # More descriptive class name\n",
      "    def __init__(self):\n",
      "        self.head = None       # Simplified variable name\n",
      "\n",
      "    def append(self, data):  # Added an append method for easier list creation\n",
      "        new_node = Node(data)\n",
      "        if not self.head:\n",
      "            self.head = new_node\n",
      "            return\n",
      "        current = self.head\n",
      "        while current.next:\n",
      "            current = current.next\n",
      "        current.next = new_node\n",
      "\n",
      "\n",
      "# Create the linked list using the append method\n",
      "list1 = LinkedList()\n",
      "list1.append(\"Mon\")\n",
      "list1.append(\"Tue\")\n",
      "list1.append(\"Wed\")\n",
      "\n",
      "\n",
      "#Verification (optional): Print the list\n",
      "def printList(node):\n",
      "    while node is not None:\n",
      "        print(node.data)\n",
      "        node = node.next\n",
      "\n",
      "printList(list1.head)\n",
      "```\n",
      "\n",
      "Here's a breakdown of the changes and why they were made:\n",
      "\n",
      "1. **Simplified Variable Names:**  The original code used `dataval` and `nextval`.  These are slightly verbose.  `data` and `next` are more concise and common conventions in Python.  Similarly, `headval` became `head`.\n",
      "\n",
      "2. **More Descriptive Class Name:** `SLinkedList` is a bit cryptic. `LinkedList` is clearer and more standard.\n",
      "\n",
      "3. **`append` Method:** The original code manually linked nodes one by one. This is cumbersome for longer lists. The added `append` method provides a cleaner and more efficient way to add nodes to the end of the list.  This is a significant improvement in terms of code readability and maintainability.  It encapsulates the node-linking logic within the class.\n",
      "\n",
      "4. **Improved List Creation:** Instead of creating individual nodes and manually linking them, the `append` method handles the entire process, making the list creation much more concise and easier to understand.\n",
      "\n",
      "5. **printList function:** Added a function to easily print the contents of the linked list for verification.\n",
      "\n",
      "\n",
      "The revised code is functionally equivalent to the original but is significantly more readable, maintainable, and easier to extend with additional functionalities (like insertion at specific positions, deletion, etc.).  The use of the `append` method is the key improvement, promoting better code organization and reducing redundancy.\n",
      "\n"
     ]
    }
   ],
   "source": [
    "completion = generate_text(\n",
    "    prompt = prompt_template.format(question=question)\n",
    ")\n",
    "print(completion.text)"
   ]
  },
  {
   "cell_type": "markdown",
   "id": "2842f412-36f7-461f-a07f-eb95b345174d",
   "metadata": {},
   "source": [
    "### Scenario 3: Write test cases\n",
    "\n",
    "- It may help to specify that you want the LLM to output \"in code\" to encourage it to write unit tests instead of just returning test cases in English."
   ]
  },
  {
   "cell_type": "code",
   "execution_count": 15,
   "id": "cf4c29c6-fe80-4aed-9e86-2daa6d862101",
   "metadata": {
    "height": 132
   },
   "outputs": [],
   "source": [
    "prompt_template = \"\"\"\n",
    "Can you please create test cases in code for this Python code?\n",
    "\n",
    "{question}\n",
    "\n",
    "Explain in detail what these test cases are designed to achieve.\n",
    "\"\"\""
   ]
  },
  {
   "cell_type": "code",
   "execution_count": 16,
   "id": "3259b810-52b4-446b-971b-136df45d0f97",
   "metadata": {
    "height": 387
   },
   "outputs": [],
   "source": [
    "# Note that the code I'm using here was output in the previous\n",
    "# section. Your output code may be different.\n",
    "question = \"\"\"\n",
    "class Node:\n",
    "  def __init__(self, dataval=None):\n",
    "    self.dataval = dataval\n",
    "    self.nextval = None\n",
    "\n",
    "class SLinkedList:\n",
    "  def __init__(self):\n",
    "    self.head = None\n",
    "\n",
    "def create_linked_list(data):\n",
    "  head = Node(data[0])\n",
    "  for i in range(1, len(data)):\n",
    "    node = Node(data[i])\n",
    "    node.nextval = head\n",
    "    head = node\n",
    "  return head\n",
    "\n",
    "list1 = create_linked_list([\"Mon\", \"Tue\", \"Wed\"])\n",
    "\"\"\""
   ]
  },
  {
   "cell_type": "code",
   "execution_count": 17,
   "id": "ab46dc7e-393a-4ec3-a443-39b39437dd05",
   "metadata": {
    "height": 81
   },
   "outputs": [
    {
     "name": "stdout",
     "output_type": "stream",
     "text": [
      "The provided code creates a singly linked list.  The `create_linked_list` function takes a list of data and returns the head of a newly created linked list where the elements are added to the *front* (resulting in a reversed order).  We need test cases to verify this functionality, handling various scenarios.\n",
      "\n",
      "Here's Python code with test cases using the `unittest` module:\n",
      "\n",
      "```python\n",
      "import unittest\n",
      "\n",
      "class Node:\n",
      "  def __init__(self, dataval=None):\n",
      "    self.dataval = dataval\n",
      "    self.nextval = None\n",
      "\n",
      "class SLinkedList:\n",
      "  def __init__(self):\n",
      "    self.head = None\n",
      "\n",
      "def create_linked_list(data):\n",
      "  head = Node(data[0]) if data else None #Handle empty list case\n",
      "  for i in range(1, len(data)):\n",
      "    node = Node(data[i])\n",
      "    node.nextval = head\n",
      "    head = node\n",
      "  return head\n",
      "\n",
      "class TestCreateLinkedList(unittest.TestCase):\n",
      "\n",
      "    def test_empty_list(self):\n",
      "        head = create_linked_list([])\n",
      "        self.assertIsNone(head, \"Empty list should return None\")\n",
      "\n",
      "    def test_single_element(self):\n",
      "        head = create_linked_list([\"Mon\"])\n",
      "        self.assertEqual(head.dataval, \"Mon\")\n",
      "        self.assertIsNone(head.nextval)\n",
      "\n",
      "    def test_multiple_elements(self):\n",
      "        head = create_linked_list([\"Mon\", \"Tue\", \"Wed\"])\n",
      "        self.assertEqual(head.dataval, \"Wed\")  # Wed should be at the head\n",
      "        self.assertEqual(head.nextval.dataval, \"Tue\")\n",
      "        self.assertEqual(head.nextval.nextval.dataval, \"Mon\")\n",
      "        self.assertIsNone(head.nextval.nextval.nextval)\n",
      "\n",
      "    def test_with_numbers(self):\n",
      "        head = create_linked_list([1, 2, 3])\n",
      "        self.assertEqual(head.dataval, 3)\n",
      "        self.assertEqual(head.nextval.dataval, 2)\n",
      "        self.assertEqual(head.nextval.nextval.dataval, 1)\n",
      "        self.assertIsNone(head.nextval.nextval.nextval)\n",
      "\n",
      "    def test_with_mixed_data(self):\n",
      "        head = create_linked_list([1, \"a\", 3.14, \"b\"])\n",
      "        self.assertEqual(head.dataval, \"b\")\n",
      "        self.assertEqual(head.nextval.dataval, 3.14)\n",
      "        self.assertEqual(head.nextval.nextval.dataval, \"a\")\n",
      "        self.assertEqual(head.nextval.nextval.nextval.dataval, 1)\n",
      "        self.assertIsNone(head.nextval.nextval.nextval.nextval)\n",
      "\n",
      "\n",
      "if __name__ == '__main__':\n",
      "    unittest.main()\n",
      "```\n",
      "\n",
      "**Explanation of Test Cases:**\n",
      "\n",
      "1. **`test_empty_list`:** Checks the function's behavior when an empty list is provided as input.  It expects `None` to be returned.\n",
      "\n",
      "2. **`test_single_element`:**  Tests the case with a list containing only one element.  It verifies that the head node's data is correct and that the `nextval` pointer is `None`.\n",
      "\n",
      "3. **`test_multiple_elements`:** This is the core test, checking the order of elements in a list with multiple elements.  It explicitly verifies the data in each node and ensures the correct linking.  Remember the list is reversed because of the way `create_linked_list` adds elements to the front.\n",
      "\n",
      "4. **`test_with_numbers`:** Tests with a list of numbers to ensure the function works correctly with different data types.\n",
      "\n",
      "5. **`test_with_mixed_data`:** Tests with a list containing a mix of data types (integers, floats, strings) to ensure robustness.\n",
      "\n",
      "\n",
      "These test cases provide comprehensive coverage of the `create_linked_list` function, checking for edge cases (empty list) and various input scenarios.  Running this code with `python -m unittest your_file_name.py` will execute the tests and report the results.  A successful run indicates that the function is working as expected.\n",
      "\n"
     ]
    }
   ],
   "source": [
    "completion = generate_text(\n",
    "    prompt = prompt_template.format(question=question)\n",
    ")\n",
    "print(completion.text)"
   ]
  },
  {
   "cell_type": "markdown",
   "id": "5b4e34dd-167c-4ce5-b0a6-20b1cf78f53c",
   "metadata": {},
   "source": [
    "### Scenario 4: Make code more efficient\n",
    "- Improve runtime by potentially avoiding inefficient methods (such as ones that use recursion when not needed)."
   ]
  },
  {
   "cell_type": "code",
   "execution_count": 18,
   "id": "da4197f9-c6de-490d-a05e-6b604e0c0c40",
   "metadata": {
    "height": 132
   },
   "outputs": [],
   "source": [
    "prompt_template = \"\"\"\n",
    "Can you please make this code more efficient?\n",
    "\n",
    "{question}\n",
    "\n",
    "Explain in detail what you changed and why.\n",
    "\"\"\""
   ]
  },
  {
   "cell_type": "code",
   "execution_count": 19,
   "id": "f653f4e0-c847-4639-8702-a9b16b161c24",
   "metadata": {
    "height": 489
   },
   "outputs": [],
   "source": [
    "question = \"\"\"\n",
    "# Returns index of x in arr if present, else -1\n",
    "def binary_search(arr, low, high, x):\n",
    "    # Check base case\n",
    "    if high >= low:\n",
    "        mid = (high + low) // 2\n",
    "        if arr[mid] == x:\n",
    "            return mid\n",
    "        elif arr[mid] > x:\n",
    "            return binary_search(arr, low, mid - 1, x)\n",
    "        else:\n",
    "            return binary_search(arr, mid + 1, high, x)\n",
    "    else:\n",
    "        return -1\n",
    "\n",
    "# Test array\n",
    "arr = [ 2, 3, 4, 10, 40 ]\n",
    "x = 10\n",
    "\n",
    "# Function call\n",
    "result = binary_search(arr, 0, len(arr)-1, x)\n",
    "\n",
    "if result != -1:\n",
    "    print(\"Element is present at index\", str(result))\n",
    "else:\n",
    "    print(\"Element is not present in array\")\n",
    "\n",
    "\"\"\""
   ]
  },
  {
   "cell_type": "code",
   "execution_count": 20,
   "id": "c0150e46-ca82-420d-82ec-54eca96bd3d2",
   "metadata": {
    "height": 81
   },
   "outputs": [
    {
     "name": "stdout",
     "output_type": "stream",
     "text": [
      "The provided code implements a recursive binary search. While functional, recursion can be less efficient than an iterative approach due to function call overhead.  Here's an improved, iterative version:\n",
      "\n",
      "```python\n",
      "def binary_search_iterative(arr, x):\n",
      "    low = 0\n",
      "    high = len(arr) - 1\n",
      "    mid = 0\n",
      "\n",
      "    while low <= high:\n",
      "        mid = (high + low) // 2  # Integer division\n",
      "\n",
      "        # If x is greater, ignore left half\n",
      "        if arr[mid] < x:\n",
      "            low = mid + 1\n",
      "\n",
      "        # If x is smaller, ignore right half\n",
      "        elif arr[mid] > x:\n",
      "            high = mid - 1\n",
      "\n",
      "        # means x is present at mid\n",
      "        else:\n",
      "            return mid\n",
      "\n",
      "    # If we reach here, then the element was not present\n",
      "    return -1\n",
      "\n",
      "# Test array\n",
      "arr = [2, 3, 4, 10, 40]\n",
      "x = 10\n",
      "\n",
      "# Function call\n",
      "result = binary_search_iterative(arr, x)\n",
      "\n",
      "if result != -1:\n",
      "    print(\"Element is present at index\", str(result))\n",
      "else:\n",
      "    print(\"Element is not present in array\")\n",
      "```\n",
      "\n",
      "**Changes and Explanations:**\n",
      "\n",
      "1. **Iterative Approach:** The most significant change is replacing the recursive calls with a `while` loop. This eliminates the overhead of repeatedly creating new stack frames for each recursive call.  For large arrays, this can lead to substantial performance improvements.\n",
      "\n",
      "2. **Simplified Logic:** The iterative version directly updates `low` and `high` within the loop, making the code slightly more concise and easier to read.\n",
      "\n",
      "3. **Removed Redundant `mid` Calculation:** The original code calculated `mid` inside the `if/elif/else` block.  This is unnecessary; it's calculated once at the beginning of each iteration.\n",
      "\n",
      "4. **Clearer Variable Scope:** The iterative version keeps `low`, `high`, and `mid` within the function's local scope, improving readability and avoiding potential naming conflicts.\n",
      "\n",
      "5. **Efficiency:** The iterative approach is generally more efficient than the recursive version, especially for larger input arrays.  Recursive calls consume stack space, and excessive recursion can lead to stack overflow errors.  The iterative version avoids this problem.\n",
      "\n",
      "6. **Function Signature:** The iterative version simplifies the function signature by removing the `low` and `high` parameters, making it more user-friendly.  The function now only requires the array and the target value as input.\n",
      "\n",
      "\n",
      "In summary, the iterative binary search is a more efficient and robust solution compared to the recursive version, particularly for larger datasets.  The recursive version is primarily useful for demonstrating the concept of recursion but is not the preferred method for practical applications where performance is a concern.\n",
      "\n"
     ]
    }
   ],
   "source": [
    "completion = generate_text(\n",
    "    prompt = prompt_template.format(question=question)\n",
    ")\n",
    "print(completion.text)"
   ]
  },
  {
   "cell_type": "markdown",
   "id": "44a24541-c37b-48a0-bc71-a8323f0b9e2d",
   "metadata": {},
   "source": [
    "#### Try out the LLM-generated code\n",
    "- If it uses `bisect`, you may first need to `import bisect`\n",
    "- Remember to check what the generated code is actually doing.  For instance, the code may work because it is calling a predefined function (such as `bisect`), even though the rest of the code is technically broken."
   ]
  },
  {
   "cell_type": "code",
   "execution_count": 21,
   "id": "ecde2b81-6e00-4977-b888-39e2f65a8d79",
   "metadata": {
    "height": 149
   },
   "outputs": [],
   "source": [
    "# Paste the LLM-generated code to inspect and debug it\n",
    "\n",
    "\n",
    "\n",
    "\n",
    "\n",
    "\n"
   ]
  },
  {
   "cell_type": "markdown",
   "id": "7326a0cc-338b-4c83-9b57-3a84094f800a",
   "metadata": {},
   "source": [
    "### Scenario 5: Debug your code"
   ]
  },
  {
   "cell_type": "code",
   "execution_count": 22,
   "id": "a10179f2-e09e-4c72-9991-a6f5d8418fc4",
   "metadata": {
    "height": 132
   },
   "outputs": [],
   "source": [
    "prompt_template = \"\"\"\n",
    "Can you please help me to debug this code?\n",
    "\n",
    "{question}\n",
    "\n",
    "Explain in detail what you found and why it was a bug.\n",
    "\"\"\""
   ]
  },
  {
   "cell_type": "code",
   "execution_count": 23,
   "id": "ed8384ba-3641-407e-add6-52efa2a43b48",
   "metadata": {
    "height": 625
   },
   "outputs": [],
   "source": [
    "# I deliberately introduced a bug into this code! Let's see if the LLM can find it.\n",
    "# Note -- the model can't see this comment -- but the bug is in the\n",
    "# print function. There's a circumstance where nodes can be null, and trying\n",
    "# to print them would give a null error.\n",
    "question = \"\"\"\n",
    "class Node:\n",
    "   def __init__(self, data):\n",
    "      self.data = data\n",
    "      self.next = None\n",
    "      self.prev = None\n",
    "\n",
    "class doubly_linked_list:\n",
    "   def __init__(self):\n",
    "      self.head = None\n",
    "\n",
    "# Adding data elements\n",
    "   def push(self, NewVal):\n",
    "      NewNode = Node(NewVal)\n",
    "      NewNode.next = self.head\n",
    "      if self.head is not None:\n",
    "         self.head.prev = NewNode\n",
    "      self.head = NewNode\n",
    "\n",
    "# Print the Doubly Linked list in order\n",
    "   def listprint(self, node):\n",
    "       print(node.data),\n",
    "       last = node\n",
    "       node = node.next\n",
    "\n",
    "dllist = doubly_linked_list()\n",
    "dllist.push(12)\n",
    "dllist.push(8)\n",
    "dllist.push(62)\n",
    "dllist.listprint(dllist.head)\n",
    "\n",
    "\"\"\""
   ]
  },
  {
   "cell_type": "markdown",
   "id": "2e4874fd-722a-4b3d-8ca1-fab36c5e84f4",
   "metadata": {},
   "source": [
    "Notice in this case that we are using the default temperature of `0.7` to generate the example that you're seeing in the lecture video.  \n",
    "- Since a temperature > 0 encourages more randomness in the LLM output, you may want to run this code a couple times to see what it outputs."
   ]
  },
  {
   "cell_type": "code",
   "execution_count": 24,
   "id": "360527f9-495e-41f4-a280-579f3643a36b",
   "metadata": {
    "height": 98
   },
   "outputs": [
    {
     "name": "stdout",
     "output_type": "stream",
     "text": [
      "The primary bug lies within the `listprint` function.  It correctly prints the data of the head node, but then it has a logic error that prevents it from traversing the rest of the list.\n",
      "\n",
      "**The Bug:**\n",
      "\n",
      "The `listprint` function attempts to iterate through the linked list, but it only updates the `node` variable (which points to the current node) and neglects to update the `last` variable.  The `last` variable serves no purpose in the current iteration logic. The code should be iterating using `node.next` until it reaches the end of the list.\n",
      "\n",
      "**Why it's a Bug:**\n",
      "\n",
      "The code only prints the `data` of the first node. After that, it assigns the first node to the `last` variable (unnecessary here) and then updates `node` to point to the *next* node. However, it never uses `node` again within the loop.  The loop implicitly ends after the first print statement because there's no further processing or iteration.\n",
      "\n",
      "**Corrected Code:**\n",
      "\n",
      "Here's the corrected `listprint` function:\n",
      "\n",
      "\n",
      "```python\n",
      "class Node:\n",
      "   def __init__(self, data):\n",
      "      self.data = data\n",
      "      self.next = None\n",
      "      self.prev = None\n",
      "\n",
      "class doubly_linked_list:\n",
      "   def __init__(self):\n",
      "      self.head = None\n",
      "\n",
      "# Adding data elements\n",
      "   def push(self, NewVal):\n",
      "      NewNode = Node(NewVal)\n",
      "      NewNode.next = self.head\n",
      "      if self.head is not None:\n",
      "         self.head.prev = NewNode\n",
      "      self.head = NewNode\n",
      "\n",
      "# Print the Doubly Linked list in order\n",
      "   def listprint(self, node):\n",
      "       while node is not None:  # Iterate until the end of the list\n",
      "           print(node.data, end=\" \") #Added end=\" \" to print on same line\n",
      "           node = node.next\n",
      "\n",
      "dllist = doubly_linked_list()\n",
      "dllist.push(12)\n",
      "dllist.push(8)\n",
      "dllist.push(62)\n",
      "dllist.listprint(dllist.head) # Output: 62 8 12 \n",
      "```\n",
      "\n",
      "The corrected `listprint` uses a `while` loop that continues as long as the current `node` is not `None` (meaning we haven't reached the end of the list).  Inside the loop, it prints the current node's data and then moves to the next node using `node = node.next`.  I've also added `end=\" \"` to the `print` function to print the numbers on the same line separated by spaces for better readability.\n",
      "\n",
      "This corrected version correctly traverses and prints all the nodes in the doubly linked list.\n",
      "\n"
     ]
    }
   ],
   "source": [
    "completion = generate_text(\n",
    "    prompt = prompt_template.format(question=question),\n",
    "    temperature = 0.7\n",
    ")\n",
    "print(completion.text)"
   ]
  },
  {
   "cell_type": "markdown",
   "id": "82c9d0dc-c216-4ea5-8ccd-1f06094b9fad",
   "metadata": {},
   "source": [
    "#### Reminder to check the code\n",
    "You can use an  LLM to give you insights and check for blind spots, but remember to check that the generated code is doing what you want it to do."
   ]
  },
  {
   "cell_type": "code",
   "execution_count": null,
   "id": "80634c53-72b8-43ee-8ac0-369fce8c0318",
   "metadata": {
    "height": 30
   },
   "outputs": [],
   "source": []
  }
 ],
 "metadata": {
  "kernelspec": {
   "display_name": "Python 3 (ipykernel)",
   "language": "python",
   "name": "python3"
  },
  "language_info": {
   "codemirror_mode": {
    "name": "ipython",
    "version": 3
   },
   "file_extension": ".py",
   "mimetype": "text/x-python",
   "name": "python",
   "nbconvert_exporter": "python",
   "pygments_lexer": "ipython3",
   "version": "3.10.14"
  }
 },
 "nbformat": 4,
 "nbformat_minor": 5
}
