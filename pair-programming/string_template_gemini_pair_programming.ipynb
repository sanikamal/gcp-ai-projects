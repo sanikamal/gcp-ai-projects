{
 "cells": [
  {
   "cell_type": "markdown",
   "id": "4e32ee57-617a-4db1-9364-0a257c05cbd5",
   "metadata": {},
   "source": [
    "# Using a String Template with Gemini for Pair Programming"
   ]
  },
  {
   "cell_type": "markdown",
   "id": "7ca54e33-87ea-4c68-96ed-20f749849ee5",
   "metadata": {},
   "source": [
    "#### Setup\n",
    "Set the Gemini API key with the provided helper function."
   ]
  },
  {
   "cell_type": "code",
   "execution_count": 1,
   "id": "55115bf7-e3dc-4969-861f-fdc3af034b61",
   "metadata": {
    "height": 336
   },
   "outputs": [],
   "source": [
    "#!pip install python-dotenv\n",
    "import os\n",
    "from dotenv import load_dotenv, find_dotenv\n",
    "\n",
    "def get_api_key():\n",
    "    \n",
    "    _ = load_dotenv(find_dotenv()) # read local .env file\n",
    "    return os.getenv('GOOGLE_API_KEY')\n",
    "\n",
    "# PaLM legacy\n",
    "## import google.generativeai as palm\n",
    "## palm.configure(api_key=get_api_key())\n",
    "\n",
    "# Gemini API\n",
    "# From now own with Gemini API\n",
    "import os\n",
    "import google.generativeai as genai\n",
    "from google.api_core import client_options as client_options_lib\n",
    "\n",
    "genai.configure(\n",
    "    api_key=get_api_key(),\n",
    "    transport=\"rest\",\n",
    "    client_options=client_options_lib.ClientOptions(\n",
    "        api_endpoint=os.getenv(\"GOOGLE_API_BASE\"),\n",
    "    )\n",
    ")"
   ]
  },
  {
   "cell_type": "markdown",
   "id": "fd4644b0-dc5e-4759-9dbd-a936b628e331",
   "metadata": {},
   "source": [
    "#### Pick the model that generates text"
   ]
  },
  {
   "cell_type": "code",
   "execution_count": 2,
   "id": "64429b22-86cb-4fd0-b0e7-03c31db454c0",
   "metadata": {
    "height": 64
   },
   "outputs": [
    {
     "data": {
      "text/plain": [
       "Model(name='models/text-bison-001',\n",
       "      base_model_id='',\n",
       "      version='001',\n",
       "      display_name='PaLM 2 (Legacy)',\n",
       "      description='A legacy model that understands text and generates text as an output',\n",
       "      input_token_limit=8196,\n",
       "      output_token_limit=1024,\n",
       "      supported_generation_methods=['generateText', 'countTextTokens', 'createTunedTextModel'],\n",
       "      temperature=0.7,\n",
       "      top_p=0.95,\n",
       "      top_k=40)"
      ]
     },
     "execution_count": 2,
     "metadata": {},
     "output_type": "execute_result"
    }
   ],
   "source": [
    "models = [m for m in genai.list_models() if 'generateText' in m.supported_generation_methods]\n",
    "model_bison = models[0]\n",
    "model_bison"
   ]
  },
  {
   "cell_type": "code",
   "execution_count": 3,
   "id": "a17c5a2a",
   "metadata": {
    "height": 47
   },
   "outputs": [],
   "source": [
    "# Set the model to connect to the Gemini API\n",
    "model_flash = genai.GenerativeModel(model_name='gemini-1.5-flash')"
   ]
  },
  {
   "cell_type": "markdown",
   "id": "2e285ad3-a650-4a3a-91e1-66b86404a637",
   "metadata": {},
   "source": [
    "### Legacy PaLM API\n",
    "#### Helper function to call the PaLM API\n",
    "```Python\n",
    "from google.api_core import retry\n",
    "@retry.Retry()\n",
    "def generate_text(prompt, \n",
    "                  model=model_bison, \n",
    "                  temperature=0.0):\n",
    "    return palm.generate_text(prompt=prompt,\n",
    "                              model=model,\n",
    "                              temperature=temperature)\n",
    "```"
   ]
  },
  {
   "cell_type": "markdown",
   "id": "b1772562",
   "metadata": {},
   "source": [
    "### Helper function to call the Gemini API"
   ]
  },
  {
   "cell_type": "code",
   "execution_count": 4,
   "id": "46314b6a",
   "metadata": {
    "height": 98
   },
   "outputs": [],
   "source": [
    "def generate_text(prompt,\n",
    "                  model=model_flash,\n",
    "                  temperature=0.0):\n",
    "    return model_flash.generate_content(prompt,\n",
    "                                  generation_config={'temperature':temperature})"
   ]
  },
  {
   "cell_type": "markdown",
   "id": "3ce7f8dd-e34b-4ff2-af4f-df6f427f1350",
   "metadata": {},
   "source": [
    "#### Prompt template\n",
    "\n",
    "1. priming: getting the LLM ready for the type of task you'll ask it to do.\n",
    "2. question: the specific task.\n",
    "3. decorator: how to provide or format the output."
   ]
  },
  {
   "cell_type": "code",
   "execution_count": 5,
   "id": "2efa45aa-c151-4200-96ac-25609b294e12",
   "metadata": {
    "height": 166
   },
   "outputs": [],
   "source": [
    "prompt_template = \"\"\"\n",
    "{priming}\n",
    "\n",
    "{question}\n",
    "\n",
    "{decorator}\n",
    "\n",
    "Your solution:\n",
    "\"\"\""
   ]
  },
  {
   "cell_type": "code",
   "execution_count": 6,
   "id": "a66e2061-4716-43de-aaf4-4d10603637d0",
   "metadata": {
    "height": 30
   },
   "outputs": [],
   "source": [
    "priming_text = \"You are an expert at writing clear, concise, Python code.\""
   ]
  },
  {
   "cell_type": "code",
   "execution_count": 7,
   "id": "46a991b1-0d1a-41c5-94d6-d1d32ee56367",
   "metadata": {
    "height": 30
   },
   "outputs": [],
   "source": [
    "question = \"create a doubly linked list\""
   ]
  },
  {
   "cell_type": "markdown",
   "id": "b0996f20-b295-49e8-b5cf-bd33c48e422b",
   "metadata": {},
   "source": [
    "#### Observe how the decorator affects the output\n",
    "- In other non-coding prompt engineering tasks, it's common to use \"chain-of-thought prompting\" by asking the model to work through the task \"step by step\".\n",
    "- For certain tasks like generating code, you may want to experiment with other wording that would make sense if you were asking a developer the same question.\n",
    "\n",
    "In the code cell below, try out option 1 first, then try out option 2."
   ]
  },
  {
   "cell_type": "code",
   "execution_count": 8,
   "id": "f8faaba4-c92f-4801-a9b9-022eb76eb456",
   "metadata": {
    "height": 98
   },
   "outputs": [],
   "source": [
    "# option 1\n",
    "# decorator = \"Work through it step by step, and show your work. One step per line.\"\n",
    "\n",
    "# option 2\n",
    "decorator = \"Insert comments for each line of code.\""
   ]
  },
  {
   "cell_type": "code",
   "execution_count": 9,
   "id": "f63ce784-232e-4c5c-bf0f-9ccf9ae3d398",
   "metadata": {
    "height": 64
   },
   "outputs": [],
   "source": [
    "prompt = prompt_template.format(priming=priming_text,\n",
    "                                question=question,\n",
    "                                decorator=decorator)"
   ]
  },
  {
   "cell_type": "markdown",
   "id": "4a234a42-f28d-41fc-b515-288d6a1f6292",
   "metadata": {},
   "source": [
    "#### review the prompt"
   ]
  },
  {
   "cell_type": "code",
   "execution_count": 10,
   "id": "4ba7d0f9-6f29-4b66-811f-1471ad71af9a",
   "metadata": {
    "height": 30
   },
   "outputs": [
    {
     "name": "stdout",
     "output_type": "stream",
     "text": [
      "\n",
      "You are an expert at writing clear, concise, Python code.\n",
      "\n",
      "create a doubly linked list\n",
      "\n",
      "Insert comments for each line of code.\n",
      "\n",
      "Your solution:\n",
      "\n"
     ]
    }
   ],
   "source": [
    "print(prompt)"
   ]
  },
  {
   "cell_type": "markdown",
   "id": "6ce3b6a6-5e1e-4efb-8b65-baa0319d7819",
   "metadata": {},
   "source": [
    "#### Call the API to get the completion"
   ]
  },
  {
   "cell_type": "code",
   "execution_count": 11,
   "id": "ac8a5609-0a1f-4bde-a3fe-a71a3bf2c817",
   "metadata": {
    "height": 115
   },
   "outputs": [
    {
     "name": "stdout",
     "output_type": "stream",
     "text": [
      "```python\n",
      "class Node:\n",
      "    \"\"\"Represents a node in the doubly linked list.\"\"\"\n",
      "    def __init__(self, data):\n",
      "        \"\"\"Initializes a node with given data.\"\"\"\n",
      "        self.data = data  # Store the data in the node\n",
      "        self.prev = None  # Pointer to the previous node (initially None)\n",
      "        self.next = None  # Pointer to the next node (initially None)\n",
      "\n",
      "\n",
      "class DoublyLinkedList:\n",
      "    \"\"\"Represents a doubly linked list.\"\"\"\n",
      "    def __init__(self):\n",
      "        \"\"\"Initializes an empty doubly linked list.\"\"\"\n",
      "        self.head = None  # Head of the list (initially None)\n",
      "        self.tail = None  # Tail of the list (initially None)\n",
      "\n",
      "    def append(self, data):\n",
      "        \"\"\"Appends a new node with the given data to the end of the list.\"\"\"\n",
      "        new_node = Node(data)  # Create a new node with the data\n",
      "        if not self.head:  # If the list is empty\n",
      "            self.head = new_node  # Set the new node as both head and tail\n",
      "            self.tail = new_node\n",
      "        else:\n",
      "            new_node.prev = self.tail  # Set the previous pointer of the new node to the current tail\n",
      "            self.tail.next = new_node  # Set the next pointer of the current tail to the new node\n",
      "            self.tail = new_node  # Update the tail to the new node\n",
      "\n",
      "    def prepend(self, data):\n",
      "        \"\"\"Prepends a new node with the given data to the beginning of the list.\"\"\"\n",
      "        new_node = Node(data) # Create a new node with the data\n",
      "        if not self.head: # If the list is empty\n",
      "            self.head = new_node # Set the new node as both head and tail\n",
      "            self.tail = new_node\n",
      "        else:\n",
      "            new_node.next = self.head # Set the next pointer of the new node to the current head\n",
      "            self.head.prev = new_node # Set the previous pointer of the current head to the new node\n",
      "            self.head = new_node # Update the head to the new node\n",
      "\n",
      "    def delete(self, data):\n",
      "        \"\"\"Deletes the first node with the given data from the list.\"\"\"\n",
      "        current = self.head # Start from the head\n",
      "        while current: # Iterate through the list\n",
      "            if current.data == data: # If the data is found\n",
      "                if current == self.head: # If it's the head node\n",
      "                    self.head = current.next # Update the head\n",
      "                    if self.head: #If there is a next node\n",
      "                        self.head.prev = None #Set previous of new head to None\n",
      "                elif current == self.tail: # If it's the tail node\n",
      "                    self.tail = current.prev # Update the tail\n",
      "                    self.tail.next = None #Set next of new tail to None\n",
      "                else: #If it's a node in the middle\n",
      "                    current.prev.next = current.next #Update the next pointer of the previous node\n",
      "                    current.next.prev = current.prev #Update the previous pointer of the next node\n",
      "                return # Exit after deletion\n",
      "\n",
      "            current = current.next # Move to the next node\n",
      "\n",
      "    def print_list(self):\n",
      "        \"\"\"Prints the data of all nodes in the list.\"\"\"\n",
      "        current = self.head #Start from the head\n",
      "        while current: #Iterate through the list\n",
      "            print(current.data, end=\" \") #Print the data\n",
      "            current = current.next #Move to the next node\n",
      "        print() #Print a newline at the end\n",
      "\n",
      "\n",
      "# Example usage\n",
      "dll = DoublyLinkedList()\n",
      "dll.append(1)\n",
      "dll.append(2)\n",
      "dll.append(3)\n",
      "dll.prepend(0)\n",
      "dll.print_list()  # Output: 0 1 2 3\n",
      "dll.delete(2)\n",
      "dll.print_list()  # Output: 0 1 3\n",
      "dll.delete(0)\n",
      "dll.print_list() # Output: 1 3\n",
      "dll.delete(3)\n",
      "dll.print_list() # Output: 1\n",
      "dll.delete(1)\n",
      "dll.print_list() # Output: \n",
      "\n",
      "```\n"
     ]
    }
   ],
   "source": [
    "completion = generate_text(prompt)\n",
    "# Gemini API\n",
    "print(completion.text)\n",
    "\n",
    "# PaLM legacy\n",
    "## print(completion.result)"
   ]
  },
  {
   "cell_type": "markdown",
   "id": "ae74f9f7-4841-4aa5-b330-a5ecff37495f",
   "metadata": {},
   "source": [
    "#### Try another question"
   ]
  },
  {
   "cell_type": "code",
   "execution_count": 12,
   "id": "e9f66bd1-d90e-40d5-aebc-fbfd42c7b52f",
   "metadata": {
    "height": 47
   },
   "outputs": [],
   "source": [
    "question = \"\"\"create a very large list of random numbers in python, \n",
    "and then write code to sort that list\"\"\""
   ]
  },
  {
   "cell_type": "code",
   "execution_count": 13,
   "id": "bf06894e-db10-4c4e-b497-35e3ce5bb41e",
   "metadata": {
    "height": 64
   },
   "outputs": [],
   "source": [
    "prompt = prompt_template.format(priming=priming_text,\n",
    "                                question=question,\n",
    "                                decorator=decorator)"
   ]
  },
  {
   "cell_type": "code",
   "execution_count": 14,
   "id": "84ed0d49-316f-445c-8e26-354ed5179654",
   "metadata": {
    "height": 30
   },
   "outputs": [
    {
     "name": "stdout",
     "output_type": "stream",
     "text": [
      "\n",
      "You are an expert at writing clear, concise, Python code.\n",
      "\n",
      "create a very large list of random numbers in python, \n",
      "and then write code to sort that list\n",
      "\n",
      "Insert comments for each line of code.\n",
      "\n",
      "Your solution:\n",
      "\n"
     ]
    }
   ],
   "source": [
    "print(prompt)"
   ]
  },
  {
   "cell_type": "code",
   "execution_count": 15,
   "id": "cc502d78-8a16-48c4-a3d9-a1c59ff6d8cb",
   "metadata": {
    "height": 47
   },
   "outputs": [
    {
     "name": "stdout",
     "output_type": "stream",
     "text": [
      "```python\n",
      "import random\n",
      "import time\n",
      "\n",
      "# Define the size of the list (adjust as needed, but be mindful of memory limitations)\n",
      "list_size = 1000000  \n",
      "\n",
      "# Generate a list of random numbers. Using random.random() for floating-point numbers.  For integers, use random.randint(a,b)\n",
      "random_numbers = [random.random() for _ in range(list_size)]  \n",
      "\n",
      "# Measure the time it takes to sort the list using Python's built-in Timsort (a hybrid sorting algorithm)\n",
      "start_time = time.time()  #Record the start time\n",
      "\n",
      "#Sort the list in place using the list.sort() method. This is generally the most efficient way to sort large lists in Python.\n",
      "random_numbers.sort()  \n",
      "\n",
      "end_time = time.time()  #Record the end time\n",
      "elapsed_time = end_time - start_time  #Calculate the elapsed time\n",
      "\n",
      "# Print the elapsed time.  The time will vary depending on your system's processing power.\n",
      "print(f\"Time taken to sort {list_size} numbers: {elapsed_time:.4f} seconds\")\n",
      "\n",
      "\n",
      "#Verification (optional): Check if the list is sorted.  Uncomment to use.  Avoid for extremely large lists due to processing time.\n",
      "#is_sorted = all(random_numbers[i] <= random_numbers[i+1] for i in range(len(random_numbers)-1))\n",
      "#print(f\"Is the list sorted? {is_sorted}\")\n",
      "\n",
      "\n",
      "#Important Note:  For lists exceeding available RAM, consider using memory-mapped files or database solutions for efficient sorting.  \n",
      "#This example is suitable for lists that comfortably fit within your system's memory.\n",
      "```\n"
     ]
    }
   ],
   "source": [
    "completion = generate_text(prompt)\n",
    "print(completion.text)"
   ]
  },
  {
   "cell_type": "markdown",
   "id": "112e9093-acbb-4d60-a278-2fdf09c8cd00",
   "metadata": {},
   "source": [
    "#### Try out the generated code\n",
    "- Debug it as needed.  For instance, you may need to import `random` in order to use the `random.randint()` function."
   ]
  },
  {
   "cell_type": "code",
   "execution_count": 16,
   "id": "2353bcf3-9d68-49f6-a6d3-3c807b08b8f9",
   "metadata": {
    "height": 115
   },
   "outputs": [
    {
     "name": "stdout",
     "output_type": "stream",
     "text": [
      "Time taken to sort 1000000 numbers: 0.2258 seconds\n"
     ]
    }
   ],
   "source": [
    "import random\n",
    "import time\n",
    "\n",
    "# Define the size of the list (adjust as needed, but be mindful of memory limitations)\n",
    "list_size = 1000000  \n",
    "\n",
    "# Generate a list of random numbers. Using random.random() for floating-point numbers.  For integers, use random.randint(a,b)\n",
    "random_numbers = [random.random() for _ in range(list_size)]  \n",
    "\n",
    "# Measure the time it takes to sort the list using Python's built-in Timsort (a hybrid sorting algorithm)\n",
    "start_time = time.time()  #Record the start time\n",
    "\n",
    "#Sort the list in place using the list.sort() method. This is generally the most efficient way to sort large lists in Python.\n",
    "random_numbers.sort()  \n",
    "\n",
    "end_time = time.time()  #Record the end time\n",
    "elapsed_time = end_time - start_time  #Calculate the elapsed time\n",
    "\n",
    "# Print the elapsed time.  The time will vary depending on your system's processing power.\n",
    "print(f\"Time taken to sort {list_size} numbers: {elapsed_time:.4f} seconds\")"
   ]
  },
  {
   "cell_type": "code",
   "execution_count": null,
   "id": "afb2514a",
   "metadata": {
    "height": 30
   },
   "outputs": [],
   "source": []
  }
 ],
 "metadata": {
  "kernelspec": {
   "display_name": "Python 3 (ipykernel)",
   "language": "python",
   "name": "python3"
  },
  "language_info": {
   "codemirror_mode": {
    "name": "ipython",
    "version": 3
   },
   "file_extension": ".py",
   "mimetype": "text/x-python",
   "name": "python",
   "nbconvert_exporter": "python",
   "pygments_lexer": "ipython3",
   "version": "3.10.14"
  }
 },
 "nbformat": 4,
 "nbformat_minor": 5
}
