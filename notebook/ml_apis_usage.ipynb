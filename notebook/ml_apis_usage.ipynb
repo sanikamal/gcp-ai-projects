{
 "cells": [
  {
   "cell_type": "markdown",
   "metadata": {},
   "source": [
    "<h1> Using Machine Learning APIs </h1>\n",
    "\n",
    "First, visit <a href=\"http://console.cloud.google.com/apis\">API console</a>, choose \"Credentials\" on the left-hand menu.  Choose \"Create Credentials\" and generate an API key for your application. You should probably restrict it by IP address to prevent abuse, but for now, just  leave that field blank and delete the API key after trying out this demo.\n",
    "\n",
    "Copy-paste your API Key here:"
   ]
  },
  {
   "cell_type": "code",
   "execution_count": 12,
   "metadata": {},
   "outputs": [],
   "source": [
    "APIKEY=\"API KEY\"  # Replace with your API key"
   ]
  },
  {
   "cell_type": "markdown",
   "metadata": {},
   "source": [
    "<b> Note: Make sure you generate an API Key and replace the value above. The sample key will not work.</b>\n"
   ]
  },
  {
   "cell_type": "markdown",
   "metadata": {},
   "source": [
    "<h2> Invoke Translate API </h2>"
   ]
  },
  {
   "cell_type": "code",
   "execution_count": 5,
   "metadata": {},
   "outputs": [
    {
     "name": "stdout",
     "output_type": "stream",
     "text": [
      "is it really this easy? -> est-ce vraiment si facile ?\n",
      "amazing technology -> technologie incroyable\n",
      "wow -> wow\n"
     ]
    }
   ],
   "source": [
    "# Running the Translate API\n",
    "from googleapiclient.discovery import build\n",
    "service = build('translate', 'v2', developerKey=APIKEY)\n",
    "\n",
    "# Use the service\n",
    "inputs = ['is it really this easy?', 'amazing technology', 'wow']\n",
    "outputs = service.translations().list(source='en', target='fr', q=inputs).execute()\n",
    "\n",
    "# Print outputs\n",
    "for input, output in zip(inputs, outputs['translations']):\n",
    "  print(\"{0} -> {1}\".format(input, output['translatedText']))"
   ]
  },
  {
   "cell_type": "markdown",
   "metadata": {},
   "source": [
    "<h2> Invoke Vision API </h2>\n",
    "\n",
    "The Vision API can work off an image in Cloud Storage or embedded directly into a POST message. I'll use Cloud Storage and do OCR on this image: <img src=\"https://storage.googleapis.com/cloud-training-demos/vision/sign2.jpg\" width=\"200\" />.  That photograph is from http://www.publicdomainpictures.net/view-image.php?image=15842\n"
   ]
  },
  {
   "cell_type": "code",
   "execution_count": 6,
   "metadata": {},
   "outputs": [
    {
     "name": "stdout",
     "output_type": "stream",
     "text": [
      "{'responses': [{'textAnnotations': [{'locale': 'zh', 'description': '请您爱护和保\\n护卫生创建优\\n美水环境', 'boundingPoly': {'vertices': [{'x': 148, 'y': 99}, {'x': 1076, 'y': 99}, {'x': 1076, 'y': 654}, {'x': 148, 'y': 654}]}}, {'description': '请', 'boundingPoly': {'vertices': [{'x': 171, 'y': 101}, {'x': 320, 'y': 101}, {'x': 320, 'y': 239}, {'x': 171, 'y': 239}]}}, {'description': '您', 'boundingPoly': {'vertices': [{'x': 327, 'y': 101}, {'x': 470, 'y': 101}, {'x': 470, 'y': 239}, {'x': 327, 'y': 239}]}}, {'description': '爱护', 'boundingPoly': {'vertices': [{'x': 472, 'y': 101}, {'x': 770, 'y': 101}, {'x': 770, 'y': 239}, {'x': 472, 'y': 239}]}}, {'description': '和', 'boundingPoly': {'vertices': [{'x': 779, 'y': 101}, {'x': 919, 'y': 101}, {'x': 919, 'y': 239}, {'x': 779, 'y': 239}]}}, {'description': '保', 'boundingPoly': {'vertices': [{'x': 930, 'y': 101}, {'x': 1074, 'y': 101}, {'x': 1074, 'y': 239}, {'x': 930, 'y': 239}]}}, {'description': '护', 'boundingPoly': {'vertices': [{'x': 169, 'y': 290}, {'x': 308, 'y': 291}, {'x': 307, 'y': 436}, {'x': 168, 'y': 435}]}}, {'description': '卫生', 'boundingPoly': {'vertices': [{'x': 320, 'y': 291}, {'x': 619, 'y': 293}, {'x': 618, 'y': 438}, {'x': 319, 'y': 436}]}}, {'description': '创建', 'boundingPoly': {'vertices': [{'x': 630, 'y': 293}, {'x': 925, 'y': 295}, {'x': 924, 'y': 440}, {'x': 629, 'y': 438}]}}, {'description': '优', 'boundingPoly': {'vertices': [{'x': 933, 'y': 295}, {'x': 1076, 'y': 296}, {'x': 1075, 'y': 441}, {'x': 932, 'y': 440}]}}, {'description': '美', 'boundingPoly': {'vertices': [{'x': 148, 'y': 501}, {'x': 301, 'y': 501}, {'x': 301, 'y': 652}, {'x': 148, 'y': 652}]}}, {'description': '水', 'boundingPoly': {'vertices': [{'x': 295, 'y': 501}, {'x': 458, 'y': 501}, {'x': 458, 'y': 652}, {'x': 295, 'y': 652}]}}, {'description': '环境', 'boundingPoly': {'vertices': [{'x': 451, 'y': 501}, {'x': 770, 'y': 501}, {'x': 770, 'y': 652}, {'x': 451, 'y': 652}]}}], 'fullTextAnnotation': {'pages': [{'property': {'detectedLanguages': [{'languageCode': 'zh', 'confidence': 0.7495854}]}, 'width': 1280, 'height': 818, 'blocks': [{'boundingBox': {'vertices': [{'x': 149, 'y': 99}, {'x': 1076, 'y': 101}, {'x': 1075, 'y': 654}, {'x': 148, 'y': 652}]}, 'paragraphs': [{'boundingBox': {'vertices': [{'x': 149, 'y': 99}, {'x': 1076, 'y': 101}, {'x': 1075, 'y': 654}, {'x': 148, 'y': 652}]}, 'words': [{'property': {'detectedLanguages': [{'languageCode': 'zh', 'confidence': 1}]}, 'boundingBox': {'vertices': [{'x': 171, 'y': 101}, {'x': 320, 'y': 101}, {'x': 320, 'y': 239}, {'x': 171, 'y': 239}]}, 'symbols': [{'boundingBox': {'vertices': [{'x': 171, 'y': 101}, {'x': 320, 'y': 101}, {'x': 320, 'y': 239}, {'x': 171, 'y': 239}]}, 'text': '请'}]}, {'property': {'detectedLanguages': [{'languageCode': 'zh', 'confidence': 1}]}, 'boundingBox': {'vertices': [{'x': 327, 'y': 101}, {'x': 470, 'y': 101}, {'x': 470, 'y': 239}, {'x': 327, 'y': 239}]}, 'symbols': [{'boundingBox': {'vertices': [{'x': 327, 'y': 101}, {'x': 470, 'y': 101}, {'x': 470, 'y': 239}, {'x': 327, 'y': 239}]}, 'text': '您'}]}, {'property': {'detectedLanguages': [{'languageCode': 'zh', 'confidence': 1}]}, 'boundingBox': {'vertices': [{'x': 472, 'y': 101}, {'x': 770, 'y': 101}, {'x': 770, 'y': 239}, {'x': 472, 'y': 239}]}, 'symbols': [{'boundingBox': {'vertices': [{'x': 472, 'y': 101}, {'x': 615, 'y': 101}, {'x': 615, 'y': 239}, {'x': 472, 'y': 239}]}, 'text': '爱'}, {'boundingBox': {'vertices': [{'x': 633, 'y': 101}, {'x': 770, 'y': 101}, {'x': 770, 'y': 239}, {'x': 633, 'y': 239}]}, 'text': '护'}]}, {'property': {'detectedLanguages': [{'languageCode': 'zh', 'confidence': 1}]}, 'boundingBox': {'vertices': [{'x': 779, 'y': 101}, {'x': 919, 'y': 101}, {'x': 919, 'y': 239}, {'x': 779, 'y': 239}]}, 'symbols': [{'boundingBox': {'vertices': [{'x': 779, 'y': 101}, {'x': 919, 'y': 101}, {'x': 919, 'y': 239}, {'x': 779, 'y': 239}]}, 'text': '和'}]}, {'property': {'detectedLanguages': [{'languageCode': 'zh', 'confidence': 1}]}, 'boundingBox': {'vertices': [{'x': 930, 'y': 101}, {'x': 1074, 'y': 101}, {'x': 1074, 'y': 239}, {'x': 930, 'y': 239}]}, 'symbols': [{'property': {'detectedBreak': {'type': 'EOL_SURE_SPACE'}}, 'boundingBox': {'vertices': [{'x': 930, 'y': 101}, {'x': 1074, 'y': 101}, {'x': 1074, 'y': 239}, {'x': 930, 'y': 239}]}, 'text': '保'}]}, {'property': {'detectedLanguages': [{'languageCode': 'zh', 'confidence': 1}]}, 'boundingBox': {'vertices': [{'x': 169, 'y': 290}, {'x': 308, 'y': 291}, {'x': 307, 'y': 436}, {'x': 168, 'y': 435}]}, 'symbols': [{'boundingBox': {'vertices': [{'x': 169, 'y': 290}, {'x': 308, 'y': 291}, {'x': 307, 'y': 436}, {'x': 168, 'y': 435}]}, 'text': '护'}]}, {'property': {'detectedLanguages': [{'languageCode': 'zh', 'confidence': 1}]}, 'boundingBox': {'vertices': [{'x': 320, 'y': 291}, {'x': 619, 'y': 293}, {'x': 618, 'y': 438}, {'x': 319, 'y': 436}]}, 'symbols': [{'boundingBox': {'vertices': [{'x': 320, 'y': 291}, {'x': 460, 'y': 292}, {'x': 459, 'y': 437}, {'x': 319, 'y': 436}]}, 'text': '卫'}, {'boundingBox': {'vertices': [{'x': 474, 'y': 292}, {'x': 619, 'y': 293}, {'x': 618, 'y': 438}, {'x': 473, 'y': 437}]}, 'text': '生'}]}, {'property': {'detectedLanguages': [{'languageCode': 'zh', 'confidence': 1}]}, 'boundingBox': {'vertices': [{'x': 630, 'y': 293}, {'x': 925, 'y': 295}, {'x': 924, 'y': 440}, {'x': 629, 'y': 438}]}, 'symbols': [{'boundingBox': {'vertices': [{'x': 630, 'y': 293}, {'x': 767, 'y': 294}, {'x': 766, 'y': 439}, {'x': 629, 'y': 438}]}, 'text': '创'}, {'boundingBox': {'vertices': [{'x': 784, 'y': 294}, {'x': 925, 'y': 295}, {'x': 924, 'y': 440}, {'x': 783, 'y': 439}]}, 'text': '建'}]}, {'property': {'detectedLanguages': [{'languageCode': 'zh', 'confidence': 1}]}, 'boundingBox': {'vertices': [{'x': 933, 'y': 295}, {'x': 1076, 'y': 296}, {'x': 1075, 'y': 441}, {'x': 932, 'y': 440}]}, 'symbols': [{'property': {'detectedBreak': {'type': 'EOL_SURE_SPACE'}}, 'boundingBox': {'vertices': [{'x': 933, 'y': 295}, {'x': 1076, 'y': 296}, {'x': 1075, 'y': 441}, {'x': 932, 'y': 440}]}, 'text': '优'}]}, {'boundingBox': {'vertices': [{'x': 148, 'y': 501}, {'x': 301, 'y': 501}, {'x': 301, 'y': 652}, {'x': 148, 'y': 652}]}, 'symbols': [{'boundingBox': {'vertices': [{'x': 148, 'y': 501}, {'x': 301, 'y': 501}, {'x': 301, 'y': 652}, {'x': 148, 'y': 652}]}, 'text': '美'}]}, {'boundingBox': {'vertices': [{'x': 295, 'y': 501}, {'x': 458, 'y': 501}, {'x': 458, 'y': 652}, {'x': 295, 'y': 652}]}, 'symbols': [{'boundingBox': {'vertices': [{'x': 295, 'y': 501}, {'x': 458, 'y': 501}, {'x': 458, 'y': 652}, {'x': 295, 'y': 652}]}, 'text': '水'}]}, {'boundingBox': {'vertices': [{'x': 451, 'y': 501}, {'x': 770, 'y': 501}, {'x': 770, 'y': 652}, {'x': 451, 'y': 652}]}, 'symbols': [{'boundingBox': {'vertices': [{'x': 451, 'y': 501}, {'x': 619, 'y': 501}, {'x': 619, 'y': 652}, {'x': 451, 'y': 652}]}, 'text': '环'}, {'property': {'detectedBreak': {'type': 'LINE_BREAK'}}, 'boundingBox': {'vertices': [{'x': 610, 'y': 501}, {'x': 770, 'y': 501}, {'x': 770, 'y': 652}, {'x': 610, 'y': 652}]}, 'text': '境'}]}]}], 'blockType': 'TEXT'}]}], 'text': '请您爱护和保\\n护卫生创建优\\n美水环境'}}]}\n"
     ]
    }
   ],
   "source": [
    "# Running the Vision API\n",
    "import base64\n",
    "IMAGE=\"gs://cloud-training-demos/vision/sign2.jpg\"\n",
    "vservice = build('vision', 'v1', developerKey=APIKEY)\n",
    "request = vservice.images().annotate(body={\n",
    "        'requests': [{\n",
    "                'image': {\n",
    "                    'source': {\n",
    "                        'gcs_image_uri': IMAGE\n",
    "                    }\n",
    "                },\n",
    "                'features': [{\n",
    "                    'type': 'TEXT_DETECTION',\n",
    "                    'maxResults': 3,\n",
    "                }]\n",
    "            }],\n",
    "        })\n",
    "responses = request.execute(num_retries=3)\n",
    "\n",
    "# Let's output the `responses`\n",
    "print(responses)"
   ]
  },
  {
   "cell_type": "code",
   "execution_count": 7,
   "metadata": {},
   "outputs": [
    {
     "name": "stdout",
     "output_type": "stream",
     "text": [
      "zh 请您爱护和保\n",
      "护卫生创建优\n",
      "美水环境\n"
     ]
    }
   ],
   "source": [
    "foreigntext = responses['responses'][0]['textAnnotations'][0]['description']\n",
    "foreignlang = responses['responses'][0]['textAnnotations'][0]['locale']\n",
    "\n",
    "# Let's output the `foreignlang` and `foreigntext`\n",
    "print(foreignlang, foreigntext)"
   ]
  },
  {
   "cell_type": "markdown",
   "metadata": {},
   "source": [
    "<h2> Translate sign </h2>"
   ]
  },
  {
   "cell_type": "code",
   "execution_count": 8,
   "metadata": {},
   "outputs": [
    {
     "name": "stdout",
     "output_type": "stream",
     "text": [
      "请您爱护和保\n",
      "护卫生创建优\n",
      "美水环境 -> Please love and protect sanitation to create a beautiful water environment\n"
     ]
    }
   ],
   "source": [
    "inputs=[foreigntext]\n",
    "outputs = service.translations().list(source=foreignlang, target='en', q=inputs).execute()\n",
    "\n",
    "# Print the outputs\n",
    "for input, output in zip(inputs, outputs['translations']):\n",
    "  print(\"{0} -> {1}\".format(input, output['translatedText']))"
   ]
  },
  {
   "cell_type": "markdown",
   "metadata": {},
   "source": [
    "<h2> Sentiment analysis with Language API </h2>\n",
    "\n",
    "Let's evaluate the sentiment of some famous quotes using Google Cloud Natural Language API."
   ]
  },
  {
   "cell_type": "code",
   "execution_count": 9,
   "metadata": {},
   "outputs": [
    {
     "name": "stdout",
     "output_type": "stream",
     "text": [
      "POLARITY=1 MAGNITUDE=0.8 for To succeed, you must have tremendous perseverance, tremendous will.\n",
      "POLARITY=-1 MAGNITUDE=0.2 for It’s not that I’m so smart, it’s just that I stay with problems longer.\n",
      "POLARITY=1 MAGNITUDE=0.9 for Love is quivering happiness.\n",
      "POLARITY=1 MAGNITUDE=0.9 for Love is of all passions the strongest, for it attacks simultaneously the head, the heart, and the senses.\n",
      "POLARITY=-1 MAGNITUDE=0.2 for What difference does it make to the dead, the orphans and the homeless, whether the mad destruction is wrought under the name of totalitarianism or in the holy name of liberty or democracy?\n",
      "POLARITY=-1 MAGNITUDE=0.3 for When someone you love dies, and you’re not expecting it, you don’t lose her all at once; you lose her in pieces over a long time — the way the mail stops coming, and her scent fades from the pillows and even from the clothes in her closet and drawers. \n"
     ]
    }
   ],
   "source": [
    "# Evaluating the sentiment with Google Cloud Natural Language API\n",
    "lservice = build('language', 'v1beta1', developerKey=APIKEY)\n",
    "quotes = [\n",
    "  'To succeed, you must have tremendous perseverance, tremendous will.',\n",
    "  'It’s not that I’m so smart, it’s just that I stay with problems longer.',\n",
    "  'Love is quivering happiness.',\n",
    "  'Love is of all passions the strongest, for it attacks simultaneously the head, the heart, and the senses.',\n",
    "  'What difference does it make to the dead, the orphans and the homeless, whether the mad destruction is wrought under the name of totalitarianism or in the holy name of liberty or democracy?',\n",
    "  'When someone you love dies, and you’re not expecting it, you don’t lose her all at once; you lose her in pieces over a long time — the way the mail stops coming, and her scent fades from the pillows and even from the clothes in her closet and drawers. '\n",
    "]\n",
    "for quote in quotes:\n",
    "# The `documents.analyzeSentiment` method analyzes the sentiment of the provided text.\n",
    "  response = lservice.documents().analyzeSentiment(\n",
    "    body={\n",
    "      'document': {\n",
    "         'type': 'PLAIN_TEXT',\n",
    "         'content': quote\n",
    "      }\n",
    "    }).execute()\n",
    "  polarity = response['documentSentiment']['polarity']\n",
    "  magnitude = response['documentSentiment']['magnitude']\n",
    "\n",
    "# Lets output the value of each `polarity`, `magnitude` and `quote`\n",
    "  print('POLARITY=%s MAGNITUDE=%s for %s' % (polarity, magnitude, quote))"
   ]
  },
  {
   "cell_type": "markdown",
   "metadata": {},
   "source": [
    "<h2> Speech API </h2>\n",
    "\n",
    "The Speech API can work on streaming data, audio content encoded and embedded directly into the POST message, or on a file on Cloud Storage. Here I'll pass in this <a href=\"https://storage.googleapis.com/cloud-training-demos/vision/audio.raw\">audio file</a> in Cloud Storage."
   ]
  },
  {
   "cell_type": "code",
   "execution_count": 10,
   "metadata": {},
   "outputs": [
    {
     "name": "stdout",
     "output_type": "stream",
     "text": [
      "{'results': [{'alternatives': [{'transcript': 'how old is the Brooklyn Bridge', 'confidence': 0.9828748}], 'resultEndTime': '1.770s', 'languageCode': 'en-us'}], 'totalBilledTime': '15s', 'requestId': '2076066226865199545'}\n"
     ]
    }
   ],
   "source": [
    "# Using the Speech API by passing audio file as an argument\n",
    "sservice = build('speech', 'v1', developerKey=APIKEY)\n",
    "# The `speech.recognize` method performs synchronous speech recognition.\n",
    "# It receive results after all audio has been sent and processed.\n",
    "response = sservice.speech().recognize(\n",
    "    body={\n",
    "        'config': {\n",
    "            'languageCode' : 'en-US',\n",
    "            'encoding': 'LINEAR16',\n",
    "            'sampleRateHertz': 16000\n",
    "        },\n",
    "        'audio': {\n",
    "            'uri': 'gs://cloud-training-demos/vision/audio.raw'\n",
    "            }\n",
    "        }).execute()\n",
    "\n",
    "# Let's output the value of `response`\n",
    "print(response)"
   ]
  },
  {
   "cell_type": "code",
   "execution_count": 11,
   "metadata": {},
   "outputs": [
    {
     "name": "stdout",
     "output_type": "stream",
     "text": [
      "how old is the Brooklyn Bridge\n",
      "Confidence=0.982875\n"
     ]
    }
   ],
   "source": [
    "print(response['results'][0]['alternatives'][0]['transcript'])\n",
    "\n",
    "# Let's output the value of `'Confidence`\n",
    "print('Confidence=%f' % response['results'][0]['alternatives'][0]['confidence'])"
   ]
  },
  {
   "cell_type": "markdown",
   "metadata": {},
   "source": [
    "<h2> Clean up </h2>\n",
    "\n",
    "Remember to delete the API key by visiting <a href=\"http://console.cloud.google.com/apis\">API console</a>.\n",
    "\n",
    "If necessary, commit all your notebooks to git.\n",
    "\n",
    "If you are running Datalab on a Compute Engine VM or delegating to one, remember to stop or shut it down so that you are not charged.\n"
   ]
  },
  {
   "cell_type": "markdown",
   "metadata": {},
   "source": [
    "## Explore More\n",
    "\n",
    "Here are a few portraits from the Metropolitan Museum of Art, New York (they are part of a [BigQuery public dataset](https://bigquery.cloud.google.com/dataset/bigquery-public-data:the_met) ):\n",
    "\n",
    "* gs://cloud-training-demos/images/met/APS6880.jpg\n",
    "* gs://cloud-training-demos/images/met/DP205018.jpg\n",
    "* gs://cloud-training-demos/images/met/DP290402.jpg\n",
    "* gs://cloud-training-demos/images/met/DP700302.jpg\n",
    "\n",
    "Use the Vision API to identify which of these images depict happy people and which ones depict unhappy people."
   ]
  },
  {
   "cell_type": "code",
   "execution_count": null,
   "metadata": {
    "collapsed": true,
    "jupyter": {
     "outputs_hidden": true
    }
   },
   "outputs": [],
   "source": []
  }
 ],
 "metadata": {
  "environment": {
   "kernel": "python3",
   "name": "tf2-gpu.2-6.m97",
   "type": "gcloud",
   "uri": "gcr.io/deeplearning-platform-release/tf2-gpu.2-6:m97"
  },
  "kernelspec": {
   "display_name": "Python 3",
   "language": "python",
   "name": "python3"
  },
  "language_info": {
   "codemirror_mode": {
    "name": "ipython",
    "version": 3
   },
   "file_extension": ".py",
   "mimetype": "text/x-python",
   "name": "python",
   "nbconvert_exporter": "python",
   "pygments_lexer": "ipython3",
   "version": "3.7.12"
  }
 },
 "nbformat": 4,
 "nbformat_minor": 4
}
