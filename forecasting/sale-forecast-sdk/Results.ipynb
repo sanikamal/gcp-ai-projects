{
 "cells": [
  {
   "cell_type": "markdown",
   "metadata": {
    "id": "eHLV0D7Y5jtU"
   },
   "source": [
    "# Vertex AI SDK for Python: Vertex AI Forecasting Model Training Results\n",
    "\n",
    "This notebook provides access to example output data saved to BigQuery from a batch prediction made by a Vertex AI AutoML Forecasting Model. This allows you to see,and interact with, sample result data without waiting for the model to complete training in the lab. \n",
    "\n",
    "The first three cells of this lab define the environment variables that allow you to run the data visualization step from the main lab notebook against a pre-prepared example BigQuery dataset called **iowa_liquor_sales_predictions_example**. \n",
    "\n",
    "To use this notebook run each step, or cell, in seuqence and see its results. To run a cell, use Shift+Enter. The notebooks will automatically display the return value of the last line in each cell. "
   ]
  },
  {
   "cell_type": "markdown",
   "metadata": {
    "id": "lld3eeJUs5yM"
   },
   "source": [
    "## Import System Modules"
   ]
  },
  {
   "cell_type": "code",
   "execution_count": null,
   "metadata": {
    "id": "ApsLDJjdsGPN"
   },
   "outputs": [],
   "source": [
    "import sys\n",
    "import os\n",
    "from datetime import datetime\n",
    "\n",
    "from google.cloud import bigquery"
   ]
  },
  {
   "cell_type": "markdown",
   "metadata": {},
   "source": [
    "## Define Lab Environment variables"
   ]
  },
  {
   "cell_type": "code",
   "execution_count": null,
   "metadata": {
    "id": "nwlVqT6RKxG7",
    "tags": []
   },
   "outputs": [],
   "source": [
    "shell_output=!gcloud config list --format 'value(core.project)' 2>/dev/null\n",
    "PROJECT_ID = shell_output[0]\n",
    "print(\"Project ID: \", PROJECT_ID)\n",
    "TIMESTAMP = datetime.now().strftime(\"%Y%m%d%H%M%S\")\n",
    "BUCKET_NAME = \"gs://\"+PROJECT_ID\n",
    "REGION = \"us-central1\"  # Change this if you need to use a different region for Vertex AI"
   ]
  },
  {
   "cell_type": "code",
   "execution_count": null,
   "metadata": {
    "id": "nT-bZ1autijD"
   },
   "outputs": [],
   "source": [
    "os.environ[\"GOOGLE_CLOUD_PROJECT\"] = PROJECT_ID\n",
    "\n",
    "time_column = \"date\"\n",
    "time_series_identifier_column=\"store_name\"\n",
    "target_column=\"sale_dollars\"\n",
    "\n",
    "batch_predict_bq_input_uri = \"bq://bigquery-public-data.iowa_liquor_sales_forecasting.2021_sales_predict\"\n",
    "batch_predict_bq_output_dataset_name = \"iowa_liquor_sales_predictions_example\"\n",
    "batch_predict_bq_output_dataset_path = \"{}.{}\".format(PROJECT_ID, batch_predict_bq_output_dataset_name)\n",
    "batch_predict_bq_output_uri_prefix = \"bq://{}.{}\".format(PROJECT_ID, batch_predict_bq_output_dataset_name)\n",
    "# Must be the same region as batch_predict_bq_input_uri\n",
    "client = bigquery.Client()"
   ]
  },
  {
   "cell_type": "markdown",
   "metadata": {},
   "source": [
    "# Visualize the Example Batch Forecasts\n",
    "Follow the this link to visualize the example batch prediction forecasts in [Data Studio](https://support.google.com/datastudio/answer/6283323?hl=en)."
   ]
  },
  {
   "cell_type": "code",
   "execution_count": null,
   "metadata": {
    "cellView": "form",
    "id": "CTQl3fH6Ur2Z"
   },
   "outputs": [],
   "source": [
    "import urllib\n",
    "\n",
    "tables = client.list_tables(batch_predict_bq_output_dataset_path)\n",
    "\n",
    "prediction_table_id = \"\"\n",
    "for table in tables:\n",
    "  if table.table_id.startswith(\n",
    "      \"predictions_\") and table.table_id > prediction_table_id:\n",
    "    prediction_table_id = table.table_id\n",
    "batch_predict_bq_output_uri = \"{}.{}\".format(\n",
    "    batch_predict_bq_output_dataset_path, prediction_table_id)\n",
    "\n",
    "\n",
    "def _sanitize_bq_uri(bq_uri):\n",
    "  if bq_uri.startswith(\"bq://\"):\n",
    "    bq_uri = bq_uri[5:]\n",
    "  return bq_uri.replace(\":\", \".\")\n",
    "\n",
    "\n",
    "def get_data_studio_link(batch_prediction_bq_input_uri,\n",
    "                         batch_prediction_bq_output_uri, time_column,\n",
    "                         time_series_identifier_column, target_column):\n",
    "  batch_prediction_bq_input_uri = _sanitize_bq_uri(\n",
    "      batch_prediction_bq_input_uri)\n",
    "  batch_prediction_bq_output_uri = _sanitize_bq_uri(\n",
    "      batch_prediction_bq_output_uri)\n",
    "  base_url = \"https://datastudio.google.com/c/u/0/reporting\"\n",
    "  query = \"SELECT \\\\n\" \\\n",
    "  \" CAST(input.{} as DATETIME) timestamp_col,\\\\n\" \\\n",
    "  \" CAST(input.{} as STRING) time_series_identifier_col,\\\\n\" \\\n",
    "  \" CAST(input.{} as NUMERIC) historical_values,\\\\n\" \\\n",
    "  \" CAST(predicted_{}.value as NUMERIC) predicted_values,\\\\n\" \\\n",
    "  \" * \\\\n\" \\\n",
    "  \"FROM `{}` input\\\\n\" \\\n",
    "  \"LEFT JOIN `{}` output\\\\n\" \\\n",
    "  \"ON\\\\n\" \\\n",
    "  \"CAST(input.{} as DATETIME) = CAST(output.{} as DATETIME)\\\\n\" \\\n",
    "  \"AND CAST(input.{} as STRING) = CAST(output.{} as STRING)\"\n",
    "  query = query.format(time_column, time_series_identifier_column,\n",
    "                       target_column, target_column,\n",
    "                       batch_prediction_bq_input_uri,\n",
    "                       batch_prediction_bq_output_uri, time_column, time_column,\n",
    "                       time_series_identifier_column,\n",
    "                       time_series_identifier_column)\n",
    "  params = {\n",
    "      \"templateId\": \"067f70d2-8cd6-4a4c-a099-292acd1053e8\",\n",
    "      \"ds0.connector\": \"BIG_QUERY\",\n",
    "      \"ds0.projectId\": PROJECT_ID,\n",
    "      \"ds0.billingProjectId\": PROJECT_ID,\n",
    "      \"ds0.type\": \"CUSTOM_QUERY\",\n",
    "      \"ds0.sql\": query\n",
    "  }\n",
    "  params_str_parts = []\n",
    "  for k, v in params.items():\n",
    "    params_str_parts.append(\"\\\"{}\\\":\\\"{}\\\"\".format(k, v))\n",
    "  params_str = \"\".join([\"{\", \",\".join(params_str_parts), \"}\"])\n",
    "  return \"{}?{}\".format(base_url,\n",
    "                        urllib.parse.urlencode({\"params\": params_str}))\n",
    "\n",
    "\n",
    "print(\n",
    "    get_data_studio_link(batch_predict_bq_input_uri,\n",
    "                         batch_predict_bq_output_uri, time_column,\n",
    "                         time_series_identifier_column, target_column))"
   ]
  },
  {
   "cell_type": "markdown",
   "metadata": {},
   "source": [
    "# Return to the main notebook\n",
    "When you are finished exploring the data you can return to the main notebook to wait for the model to complete training if you wish to interact with the model directly and perform your own predictions. "
   ]
  },
  {
   "cell_type": "code",
   "execution_count": null,
   "metadata": {},
   "outputs": [],
   "source": [
    "# bq --location=us mk --dataset $PROJECT_ID:iowa_liquor_sales_predictions_example\n",
    "# bq --location=us load --source_format=AVRO \\\n",
    "#    iowa_liquor_sales_predictions_example.errors_example \\\n",
    "#    gs://cloud-training/CBL458/setup/batch_prediction_error_example.avro\n",
    "# bq --location=us load --source_format=AVRO \\\n",
    "#    iowa_liquor_sales_predictions_example.predictions_example \\\n",
    "#    gs://cloud-training/CBL458/setup/batch_prediction_example.avro"
   ]
  }
 ],
 "metadata": {
  "colab": {
   "collapsed_sections": [],
   "name": "Vertex AI SDK - Vertex AI Forecasting Model Training Example",
   "provenance": []
  },
  "environment": {
   "kernel": "conda-base-py",
   "name": "workbench-notebooks.m128",
   "type": "gcloud",
   "uri": "us-docker.pkg.dev/deeplearning-platform-release/gcr.io/workbench-notebooks:m128"
  },
  "kernelspec": {
   "display_name": "Python 3 (ipykernel) (Local)",
   "language": "python",
   "name": "conda-base-py"
  },
  "language_info": {
   "codemirror_mode": {
    "name": "ipython",
    "version": 3
   },
   "file_extension": ".py",
   "mimetype": "text/x-python",
   "name": "python",
   "nbconvert_exporter": "python",
   "pygments_lexer": "ipython3",
   "version": "3.10.16"
  }
 },
 "nbformat": 4,
 "nbformat_minor": 4
}
